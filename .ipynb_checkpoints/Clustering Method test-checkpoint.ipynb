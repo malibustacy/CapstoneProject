{
 "cells": [
  {
   "cell_type": "code",
   "execution_count": 13,
   "metadata": {
    "collapsed": true
   },
   "outputs": [],
   "source": [
    "import pandas as pd\n",
    "import numpy as np\n",
    "import scipy\n",
    "from matplotlib import pyplot as plt\n",
    "import seaborn as sns\n",
    "%config InlineBackend.figure_format = 'retina'\n",
    "%matplotlib inline"
   ]
  },
  {
   "cell_type": "code",
   "execution_count": null,
   "metadata": {
    "collapsed": true
   },
   "outputs": [],
   "source": [
    "# %load plot_clustered_ts.py\n",
    "def plot_clustered_ts(timeSeries, k,method, metric, anim, plot = True):\n",
    "    %matplotlib inline\n",
    "    from scipy.cluster.hierarchy import fcluster\n",
    "    import math\n",
    "    import time\n",
    "\n",
    "    Z = linkage(timeSeries,  method=method, metric=metric)\n",
    "    # k Number of clusters I'd like to extract\n",
    "    results = fcluster(Z, k, criterion='maxclust')\n",
    "    #print(results)\n",
    "    # check the results\n",
    "    s = pd.Series(results)\n",
    "    clusters = s.unique()\n",
    "    if anim == True:\n",
    "        %matplotlib\n",
    "\n",
    "    fig = plt.figure(1, figsize = (15,10))\n",
    "    for i, c in enumerate(clusters):\n",
    "\n",
    "        cluster_indeces = s[s==c].index\n",
    "\n",
    "        if plot:\n",
    "            with plt.style.context(('bmh')):\n",
    "                x = math.ceil(k/2)\n",
    "                ax = fig.add_subplot(x,2,i+1)\n",
    "                if anim == True:\n",
    "                    axes = fig.add_subplot(x,2,i+1)\n",
    "\n",
    "                    for cluster_index in range(len(cluster_indeces)):\n",
    "                        axes = plt.gca()\n",
    "                        axes.set_ylim(-3, +3)\n",
    "                        plt.plot(timeSeries.T.iloc[:,cluster_indeces[cluster_index]], marker = \".\",label = cluster_indeces[cluster_index])\n",
    "                        plt.draw()\n",
    "                        plt.pause(0.1)\n",
    "                        #plt.set_title(\"Cluster %d - number of entries %d\" % (c, len(cluster_indeces)))\n",
    "                        #plt.legend(frameon=False, loc='lower right', ncol=2)\n",
    "\n",
    "                else:\n",
    "                    for cluster_index in range(len(cluster_indeces)):\n",
    "                        ax.plot(timeSeries.T.iloc[:,cluster_indeces[cluster_index]], marker = \".\",label = cluster_indeces[cluster_index])\n",
    "                        plt.title(\"Cluster %d - number of entries %d\" % (c, len(cluster_indeces)))\n",
    "                        plt.legend(frameon=False, loc='lower right', ncol=2)\n",
    "\n",
    "        else:\n",
    "            print(\"Cluster %d - number of entries %d\" % (c, len(cluster_indeces)))\n",
    "    plt.close(1)\n",
    "    return results\n",
    "\n",
    "def plot_clustered_ts_part(timeSeries, k,method, metric,n, anim, plot = True):\n",
    "    %matplotlib inline\n",
    "    from scipy.cluster.hierarchy import fcluster\n",
    "    import math\n",
    "    import time\n",
    "\n",
    "    Z = linkage(timeSeries.T[:n].T,  method=method, metric=metric)\n",
    "    # k Number of clusters I'd like to extract\n",
    "    results = fcluster(Z, k, criterion='maxclust')\n",
    "    #print(results)\n",
    "    # check the results\n",
    "    s = pd.Series(results)\n",
    "    clusters = s.unique()\n",
    "    if anim == True:\n",
    "        %matplotlib\n",
    "\n",
    "    fig = plt.figure(1, figsize = (15,10))\n",
    "    for i, c in enumerate(clusters):\n",
    "\n",
    "        cluster_indeces = s[s==c].index\n",
    "\n",
    "        if plot:\n",
    "            with plt.style.context(('bmh')):\n",
    "                x = math.ceil(k/2)\n",
    "                ax = fig.add_subplot(x,2,i+1)\n",
    "                if anim == True:\n",
    "                    axes = fig.add_subplot(x,2,i+1)\n",
    "\n",
    "                    for cluster_index in range(len(cluster_indeces)):\n",
    "                        axes = plt.gca()\n",
    "                        axes.set_ylim(-3, +3)\n",
    "\n",
    "                        plt.plot(timeSeries.T.iloc[:,cluster_indeces[cluster_index]], marker = \".\",label = cluster_indeces[cluster_index])\n",
    "                        plt.draw()\n",
    "                        plt.pause(0.1)\n",
    "                        #plt.set_title(\"Cluster %d - number of entries %d\" % (c, len(cluster_indeces)))\n",
    "                        #plt.legend(frameon=False, loc='lower right', ncol=2)\n",
    "\n",
    "                else:\n",
    "                    for cluster_index in range(len(cluster_indeces)):\n",
    "                        ax.plot(timeSeries.T.iloc[:,cluster_indeces[cluster_index]], marker = \".\",label = cluster_indeces[cluster_index])\n",
    "                        plt.title(\"Cluster %d - number of entries %d\" % (c, len(cluster_indeces)))\n",
    "                        plt.legend(frameon=False, loc='lower right', ncol=2)\n",
    "\n",
    "        else:\n",
    "            print(\"Cluster %d - number of entries %d\" % (c, len(cluster_indeces)))\n",
    "    plt.close(1)\n",
    "    return results\n"
   ]
  },
  {
   "cell_type": "code",
   "execution_count": 16,
   "metadata": {
    "collapsed": true
   },
   "outputs": [],
   "source": [
    "br29_norm = pd.read_csv(\"Data/br_29_norm.csv\")\n",
    "hr29_norm = pd.read_csv(\"Data/hr_29_norm.csv\")\n",
    "st29_norm = pd.read_csv(\"Data/st_29_norm.csv\")"
   ]
  },
  {
   "cell_type": "markdown",
   "metadata": {},
   "source": [
    "# bray curtis & complete"
   ]
  },
  {
   "cell_type": "code",
   "execution_count": 20,
   "metadata": {},
   "outputs": [
    {
     "ename": "NameError",
     "evalue": "name 'linkage' is not defined",
     "output_type": "error",
     "traceback": [
      "\u001b[0;31m---------------------------------------------------------------------------\u001b[0m",
      "\u001b[0;31mNameError\u001b[0m                                 Traceback (most recent call last)",
      "\u001b[0;32m<ipython-input-20-131af4a1acd9>\u001b[0m in \u001b[0;36m<module>\u001b[0;34m()\u001b[0m\n\u001b[1;32m      6\u001b[0m \u001b[0mmetric\u001b[0m \u001b[0;34m=\u001b[0m \u001b[0;34m\"braycurtis\"\u001b[0m\u001b[0;34m\u001b[0m\u001b[0m\n\u001b[1;32m      7\u001b[0m \u001b[0;31m#plot_dendro(timeSeries, method, metric, k, feature, cycle_length)\u001b[0m\u001b[0;34m\u001b[0m\u001b[0;34m\u001b[0m\u001b[0m\n\u001b[0;32m----> 8\u001b[0;31m \u001b[0mclusters\u001b[0m \u001b[0;34m=\u001b[0m \u001b[0mplot_clustered_ts\u001b[0m\u001b[0;34m(\u001b[0m\u001b[0mtimeSeries\u001b[0m\u001b[0;34m,\u001b[0m \u001b[0mk\u001b[0m\u001b[0;34m,\u001b[0m \u001b[0mmethod\u001b[0m\u001b[0;34m,\u001b[0m \u001b[0mmetric\u001b[0m\u001b[0;34m,\u001b[0m \u001b[0manim\u001b[0m\u001b[0;34m=\u001b[0m\u001b[0;32mTrue\u001b[0m\u001b[0;34m,\u001b[0m \u001b[0mplot\u001b[0m \u001b[0;34m=\u001b[0m \u001b[0;32mTrue\u001b[0m\u001b[0;34m)\u001b[0m\u001b[0;34m\u001b[0m\u001b[0m\n\u001b[0m",
      "\u001b[0;32m~/Propulsion Academy/CapstoneProject/plot_clustered_ts.py\u001b[0m in \u001b[0;36mplot_clustered_ts\u001b[0;34m(timeSeries, k, method, metric, anim, plot)\u001b[0m\n\u001b[1;32m      5\u001b[0m     \u001b[0;32mimport\u001b[0m \u001b[0mtime\u001b[0m\u001b[0;34m\u001b[0m\u001b[0m\n\u001b[1;32m      6\u001b[0m     \u001b[0;32mfrom\u001b[0m \u001b[0mscipy\u001b[0m\u001b[0;34m.\u001b[0m\u001b[0mcluster\u001b[0m\u001b[0;34m.\u001b[0m\u001b[0mhierarchy\u001b[0m \u001b[0;32mimport\u001b[0m \u001b[0mdendrogram\u001b[0m\u001b[0;34m,\u001b[0m \u001b[0mlinkage\u001b[0m\u001b[0;34m,\u001b[0m \u001b[0mcut_tree\u001b[0m\u001b[0;34m,\u001b[0m \u001b[0mset_link_color_palette\u001b[0m\u001b[0;34m\u001b[0m\u001b[0m\n\u001b[0;32m----> 7\u001b[0;31m \u001b[0;34m\u001b[0m\u001b[0m\n\u001b[0m\u001b[1;32m      8\u001b[0m     \u001b[0mZ\u001b[0m \u001b[0;34m=\u001b[0m \u001b[0mlinkage\u001b[0m\u001b[0;34m(\u001b[0m\u001b[0mtimeSeries\u001b[0m\u001b[0;34m,\u001b[0m  \u001b[0mmethod\u001b[0m\u001b[0;34m=\u001b[0m\u001b[0mmethod\u001b[0m\u001b[0;34m,\u001b[0m \u001b[0mmetric\u001b[0m\u001b[0;34m=\u001b[0m\u001b[0mmetric\u001b[0m\u001b[0;34m)\u001b[0m\u001b[0;34m\u001b[0m\u001b[0m\n\u001b[1;32m      9\u001b[0m     \u001b[0;31m# k Number of clusters I'd like to extract\u001b[0m\u001b[0;34m\u001b[0m\u001b[0;34m\u001b[0m\u001b[0m\n",
      "\u001b[0;31mNameError\u001b[0m: name 'linkage' is not defined"
     ]
    }
   ],
   "source": [
    "feature = \"Heart Rate (z-score)\"\n",
    "cycle_length = \"29\"\n",
    "timeSeries = hr29_norm.drop(\"cycle_day\", axis =1).T\n",
    "k = 6\n",
    "method = \"complete\"\n",
    "metric = \"braycurtis\"\n",
    "#plot_dendro(timeSeries, method, metric, k, feature, cycle_length)\n",
    "clusters = plot_clustered_ts(timeSeries, k, method, metric, anim=True, plot = True)"
   ]
  },
  {
   "cell_type": "code",
   "execution_count": null,
   "metadata": {
    "collapsed": true
   },
   "outputs": [],
   "source": []
  }
 ],
 "metadata": {
  "kernelspec": {
   "display_name": "Python 3",
   "language": "python",
   "name": "python3"
  },
  "language_info": {
   "codemirror_mode": {
    "name": "ipython",
    "version": 3
   },
   "file_extension": ".py",
   "mimetype": "text/x-python",
   "name": "python",
   "nbconvert_exporter": "python",
   "pygments_lexer": "ipython3",
   "version": "3.6.3"
  }
 },
 "nbformat": 4,
 "nbformat_minor": 2
}
