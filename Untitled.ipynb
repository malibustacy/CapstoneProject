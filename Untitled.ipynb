{
 "cells": [
  {
   "cell_type": "code",
   "execution_count": 3,
   "metadata": {},
   "outputs": [],
   "source": [
    "import seaborn as sns\n",
    "\n",
    "import pandas as pd\n",
    "\n",
    "networks = sns.load_dataset(\"brain_networks\", index_col=0, header=[0, 1, 2])\n",
    "network_labels = networks.columns.get_level_values(\"network\")\n",
    "network_pal = sns.cubehelix_palette(network_labels.unique().size,\n",
    "                                    light=.9, dark=.1, reverse=True,\n",
    "                                    start=1, rot=-2)\n",
    "network_lut = dict(zip(map(str, network_labels.unique()), network_pal))\n",
    "\n",
    "network_colors = pd.Series(network_labels).map(network_lut)"
   ]
  },
  {
   "cell_type": "code",
   "execution_count": 14,
   "metadata": {},
   "outputs": [
    {
     "data": {
      "text/plain": [
       "Index(['1', '1', '2', '2', '3', '3', '4', '4', '5', '5', '6', '6', '6', '6',\n",
       "       '7', '7', '7', '7', '7', '7', '8', '8', '8', '8', '8', '8', '9', '9',\n",
       "       '10', '10', '11', '11', '12', '12', '12', '12', '12', '13', '13', '13',\n",
       "       '13', '13', '13', '14', '14', '15', '15', '16', '16', '16', '16', '16',\n",
       "       '16', '16', '16', '17', '17', '17', '17', '17', '17', '17'],\n",
       "      dtype='object', name='network')"
      ]
     },
     "execution_count": 14,
     "metadata": {},
     "output_type": "execute_result"
    }
   ],
   "source": [
    "network_labels"
   ]
  },
  {
   "cell_type": "code",
   "execution_count": 9,
   "metadata": {},
   "outputs": [
    {
     "data": {
      "text/plain": [
       "Index(['1', '1', '2', '2', '3', '3', '4', '4', '5', '5', '6', '6', '6', '6',\n",
       "       '7', '7', '7', '7', '7', '7', '8', '8', '8', '8', '8', '8', '9', '9',\n",
       "       '10', '10', '11', '11', '12', '12', '12', '12', '12', '13', '13', '13',\n",
       "       '13', '13', '13', '14', '14', '15', '15', '16', '16', '16', '16', '16',\n",
       "       '16', '16', '16', '17', '17', '17', '17', '17', '17', '17'],\n",
       "      dtype='object', name='network')"
      ]
     },
     "execution_count": 9,
     "metadata": {},
     "output_type": "execute_result"
    }
   ],
   "source": [
    "network_labels"
   ]
  },
  {
   "cell_type": "code",
   "execution_count": null,
   "metadata": {
    "collapsed": true
   },
   "outputs": [],
   "source": []
  }
 ],
 "metadata": {
  "kernelspec": {
   "display_name": "Python 3",
   "language": "python",
   "name": "python3"
  },
  "language_info": {
   "codemirror_mode": {
    "name": "ipython",
    "version": 3
   },
   "file_extension": ".py",
   "mimetype": "text/x-python",
   "name": "python",
   "nbconvert_exporter": "python",
   "pygments_lexer": "ipython3",
   "version": "3.6.3"
  }
 },
 "nbformat": 4,
 "nbformat_minor": 2
}
