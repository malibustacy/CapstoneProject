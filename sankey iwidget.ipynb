{
 "cells": [
  {
   "cell_type": "code",
   "execution_count": 3,
   "metadata": {
    "collapsed": true
   },
   "outputs": [],
   "source": [
    "import seaborn as sns\n",
    "\n",
    "import pandas as pd\n",
    "\n",
    "networks = sns.load_dataset(\"brain_networks\", index_col=0, header=[0, 1, 2])\n",
    "network_labels = networks.columns.get_level_values(\"network\")\n",
    "network_pal = sns.cubehelix_palette(network_labels.unique().size,\n",
    "                                    light=.9, dark=.1, reverse=True,\n",
    "                                    start=1, rot=-2)\n",
    "network_lut = dict(zip(map(str, network_labels.unique()), network_pal))\n",
    "\n",
    "network_colors = pd.Series(network_labels).map(network_lut)"
   ]
  },
  {
   "cell_type": "code",
   "execution_count": 14,
   "metadata": {},
   "outputs": [
    {
     "data": {
      "text/plain": [
       "Index(['1', '1', '2', '2', '3', '3', '4', '4', '5', '5', '6', '6', '6', '6',\n",
       "       '7', '7', '7', '7', '7', '7', '8', '8', '8', '8', '8', '8', '9', '9',\n",
       "       '10', '10', '11', '11', '12', '12', '12', '12', '12', '13', '13', '13',\n",
       "       '13', '13', '13', '14', '14', '15', '15', '16', '16', '16', '16', '16',\n",
       "       '16', '16', '16', '17', '17', '17', '17', '17', '17', '17'],\n",
       "      dtype='object', name='network')"
      ]
     },
     "execution_count": 14,
     "metadata": {},
     "output_type": "execute_result"
    }
   ],
   "source": [
    "network_labels"
   ]
  },
  {
   "cell_type": "code",
   "execution_count": 9,
   "metadata": {},
   "outputs": [
    {
     "data": {
      "text/plain": [
       "Index(['1', '1', '2', '2', '3', '3', '4', '4', '5', '5', '6', '6', '6', '6',\n",
       "       '7', '7', '7', '7', '7', '7', '8', '8', '8', '8', '8', '8', '9', '9',\n",
       "       '10', '10', '11', '11', '12', '12', '12', '12', '12', '13', '13', '13',\n",
       "       '13', '13', '13', '14', '14', '15', '15', '16', '16', '16', '16', '16',\n",
       "       '16', '16', '16', '17', '17', '17', '17', '17', '17', '17'],\n",
       "      dtype='object', name='network')"
      ]
     },
     "execution_count": 9,
     "metadata": {},
     "output_type": "execute_result"
    }
   ],
   "source": [
    "network_labels"
   ]
  },
  {
   "cell_type": "code",
   "execution_count": 2,
   "metadata": {
    "collapsed": true
   },
   "outputs": [],
   "source": [
    "def print_heatmap2(timeSeries, user_cycle_df, cycle_length, metric, method, first_cycle = True):\n",
    "\n",
    "    import seaborn as sns; sns.set(color_codes=True)\n",
    "\n",
    "    if cycle_length == \"all\":\n",
    "        users = user_cycle_df[[\"user\",\"cycle_index\",\"cycle_number\"]]\n",
    "        users = users.set_index(users.cycle_index)\n",
    "        figsize = (15,30)\n",
    "\n",
    "    else:\n",
    "        users = user_cycle_df[user_cycle_df.cycle_length == cycle_length][[\"user\",\"cycle_index\",\"cycle_number\"]]\n",
    "        users = users.set_index(users.cycle_index)\n",
    "        figsize = (15,15)\n",
    "\n",
    "    timeSeries = timeSeries.T.reset_index().set_index(\"cycle_index\").drop(\"level_0\", axis = 1)\n",
    "\n",
    "\n",
    "\n",
    "    max_cycle_numbers = len(users.cycle_number.unique())-9\n",
    "\n",
    "    colors = \"ryyggccbb\"+(\"k\"*max_cycle_numbers)\n",
    "\n",
    "    lut = dict(zip(users.user.unique(), sns.hls_palette(len(set(users.user)),l=0.4)))\n",
    "    row_colors = users.user.map(lut).rename(\"user\")\n",
    "\n",
    "    lut2 = dict(zip(sorted(users.cycle_number.unique()), colors))\n",
    "    \n",
    "    row_colors2 = users.cycle_number.map(lut2).rename(\"first cycle\")\n",
    "    \n",
    "    row_color = [row_colors2, row_colors]\n",
    "    if first_cycle == False:\n",
    "        row_color = row_colors\n",
    "\n",
    "    mask = timeSeries.isnull()\n",
    "    with sns.axes_style(\"white\"):\n",
    "        ax = sns.clustermap(timeSeries.fillna(0),\n",
    "                    metric=metric,method=method,\n",
    "                    col_cluster = False,\n",
    "                    figsize=figsize,\n",
    "                    row_colors = row_color,\n",
    "                    mask = mask,\n",
    "                    )\n",
    "        plt.setp(ax.ax_heatmap.get_yticklabels(), rotation=0)  # For y axis\n",
    "        plt.setp(ax.ax_heatmap.get_xticklabels(), rotation=90) # For x axis\n",
    "        plt.title('', fontsize=12)\n",
    "        plt.suptitle(method+\"-\"+metric+\" clustered cylces (\"+str(cycle_length)+\" Days)\", fontsize=20)\n",
    "        plt.legend(bbox_to_anchor=(1, 1), loc=2)"
   ]
  },
  {
   "cell_type": "code",
   "execution_count": 3,
   "metadata": {
    "collapsed": true
   },
   "outputs": [],
   "source": [
    "from ipysankeywidget import SankeyWidget\n",
    "from ipywidgets import Layout"
   ]
  },
  {
   "cell_type": "code",
   "execution_count": 4,
   "metadata": {
    "collapsed": true
   },
   "outputs": [],
   "source": [
    "layout = Layout(width=\"300\", height=\"200\")\n",
    "def sankey(margin_top=10, **value):\n",
    "    \"\"\"Show SankeyWidget with default values for size and margins\"\"\"\n",
    "    return SankeyWidget(layout=layout,\n",
    "                        margins=dict(top=margin_top, bottom=0, left=30, right=60),\n",
    "                        **value)"
   ]
  },
  {
   "cell_type": "code",
   "execution_count": 5,
   "metadata": {
    "collapsed": true
   },
   "outputs": [],
   "source": [
    "links = [\n",
    "    {'source': 'start', 'target': 'A', 'value': 1},\n",
    "    {'source': 'A', 'target': 'B', 'value': 2},\n",
    "    {'source': 'C', 'target': 'A', 'value': 5},\n",
    "    {'source': 'A', 'target': 'C', 'value': 2},\n",
    "]"
   ]
  },
  {
   "cell_type": "code",
   "execution_count": 6,
   "metadata": {},
   "outputs": [],
   "source": [
    "w = SankeyWidget(links=links, margins=dict(top=0, bottom=0, left=50, right=100))"
   ]
  },
  {
   "cell_type": "code",
   "execution_count": 7,
   "metadata": {},
   "outputs": [
    {
     "data": {
      "application/vnd.jupyter.widget-view+json": {
       "model_id": "2a7ee7c51bb947ffbca92e92118d696d",
       "version_major": 2,
       "version_minor": 0
      },
      "text/plain": [
       "A Jupyter Widget"
      ]
     },
     "metadata": {},
     "output_type": "display_data"
    }
   ],
   "source": [
    "%matplotlib inline\n",
    "w"
   ]
  },
  {
   "cell_type": "code",
   "execution_count": null,
   "metadata": {
    "collapsed": true
   },
   "outputs": [],
   "source": []
  },
  {
   "cell_type": "code",
   "execution_count": null,
   "metadata": {
    "collapsed": true
   },
   "outputs": [],
   "source": []
  }
 ],
 "metadata": {
  "kernelspec": {
   "display_name": "Python 3",
   "language": "python",
   "name": "python3"
  },
  "language_info": {
   "codemirror_mode": {
    "name": "ipython",
    "version": 3
   },
   "file_extension": ".py",
   "mimetype": "text/x-python",
   "name": "python",
   "nbconvert_exporter": "python",
   "pygments_lexer": "ipython3",
   "version": "3.6.3"
  }
 },
 "nbformat": 4,
 "nbformat_minor": 2
}
